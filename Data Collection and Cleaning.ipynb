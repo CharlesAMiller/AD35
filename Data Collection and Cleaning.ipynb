{
 "metadata": {
  "language_info": {
   "codemirror_mode": {
    "name": "ipython",
    "version": 3
   },
   "file_extension": ".py",
   "mimetype": "text/x-python",
   "name": "python",
   "nbconvert_exporter": "python",
   "pygments_lexer": "ipython3",
   "version": "3.6.9-final"
  },
  "orig_nbformat": 2,
  "kernelspec": {
   "name": "python36964bit6c95b7821d2a4af8a6bbd6e0be0e8199",
   "display_name": "Python 3.6.9 64-bit",
   "language": "python"
  }
 },
 "nbformat": 4,
 "nbformat_minor": 2,
 "cells": [
  {
   "cell_type": "code",
   "execution_count": 2,
   "metadata": {},
   "outputs": [],
   "source": [
    "import pandas as pd "
   ]
  },
  {
   "cell_type": "code",
   "execution_count": 170,
   "metadata": {},
   "outputs": [
    {
     "output_type": "execute_result",
     "data": {
      "text/plain": [
       "         aip  chidcl  chidem  chioth  chirep      dcl  dclf1824  dclf2534  \\\n",
       "year                                                                        \n",
       "2012  5193.0   565.0   524.0    70.0   293.0  40798.0    4169.0    3516.0   \n",
       "2014  3695.0   286.0   297.0    46.0   224.0  27070.0    1487.0    1872.0   \n",
       "2016  5942.0   731.0   857.0    66.0   341.0  50586.0    4403.0    4823.0   \n",
       "2018  4974.0   550.0   675.0    50.0   267.0  44239.0    3127.0    3607.0   \n",
       "2020  8263.0   633.0   945.0    79.0   334.0  55274.0    3907.0    5295.0   \n",
       "\n",
       "      dclf3544  dclf4554  ...  rreg5g  rreg6g  rreg7g  rreg8g   rreg9g  \\\n",
       "year                      ...                                            \n",
       "2012    2976.0    3423.0  ...  8745.0  3966.0  5522.0  3547.0  26283.0   \n",
       "2014    1739.0    2341.0  ...  2859.0  5965.0  2953.0  4132.0  23905.0   \n",
       "2016    3880.0    3933.0  ...  5706.0  2347.0  6773.0  2857.0  27881.0   \n",
       "2018    3384.0    3412.0  ...  2322.0  3728.0  1579.0  4802.0  23008.0   \n",
       "2020    4579.0    3740.0  ...  2242.0  1448.0  2535.0   984.0  18759.0   \n",
       "\n",
       "      totreg_r  vietdcl  vietdem  vietoth  vietrep  \n",
       "year                                                \n",
       "2012  214522.0    215.0    227.0     28.0    101.0  \n",
       "2014  153383.0     84.0    105.0     14.0     73.0  \n",
       "2016  242385.0    253.0    417.0     29.0    125.0  \n",
       "2018  203251.0    189.0    278.0     20.0     78.0  \n",
       "2020  276972.0    221.0    411.0     53.0    168.0  \n",
       "\n",
       "[5 rows x 137 columns]"
      ],
      "text/html": "<div>\n<style scoped>\n    .dataframe tbody tr th:only-of-type {\n        vertical-align: middle;\n    }\n\n    .dataframe tbody tr th {\n        vertical-align: top;\n    }\n\n    .dataframe thead th {\n        text-align: right;\n    }\n</style>\n<table border=\"1\" class=\"dataframe\">\n  <thead>\n    <tr style=\"text-align: right;\">\n      <th></th>\n      <th>aip</th>\n      <th>chidcl</th>\n      <th>chidem</th>\n      <th>chioth</th>\n      <th>chirep</th>\n      <th>dcl</th>\n      <th>dclf1824</th>\n      <th>dclf2534</th>\n      <th>dclf3544</th>\n      <th>dclf4554</th>\n      <th>...</th>\n      <th>rreg5g</th>\n      <th>rreg6g</th>\n      <th>rreg7g</th>\n      <th>rreg8g</th>\n      <th>rreg9g</th>\n      <th>totreg_r</th>\n      <th>vietdcl</th>\n      <th>vietdem</th>\n      <th>vietoth</th>\n      <th>vietrep</th>\n    </tr>\n    <tr>\n      <th>year</th>\n      <th></th>\n      <th></th>\n      <th></th>\n      <th></th>\n      <th></th>\n      <th></th>\n      <th></th>\n      <th></th>\n      <th></th>\n      <th></th>\n      <th></th>\n      <th></th>\n      <th></th>\n      <th></th>\n      <th></th>\n      <th></th>\n      <th></th>\n      <th></th>\n      <th></th>\n      <th></th>\n      <th></th>\n    </tr>\n  </thead>\n  <tbody>\n    <tr>\n      <th>2012</th>\n      <td>5193.0</td>\n      <td>565.0</td>\n      <td>524.0</td>\n      <td>70.0</td>\n      <td>293.0</td>\n      <td>40798.0</td>\n      <td>4169.0</td>\n      <td>3516.0</td>\n      <td>2976.0</td>\n      <td>3423.0</td>\n      <td>...</td>\n      <td>8745.0</td>\n      <td>3966.0</td>\n      <td>5522.0</td>\n      <td>3547.0</td>\n      <td>26283.0</td>\n      <td>214522.0</td>\n      <td>215.0</td>\n      <td>227.0</td>\n      <td>28.0</td>\n      <td>101.0</td>\n    </tr>\n    <tr>\n      <th>2014</th>\n      <td>3695.0</td>\n      <td>286.0</td>\n      <td>297.0</td>\n      <td>46.0</td>\n      <td>224.0</td>\n      <td>27070.0</td>\n      <td>1487.0</td>\n      <td>1872.0</td>\n      <td>1739.0</td>\n      <td>2341.0</td>\n      <td>...</td>\n      <td>2859.0</td>\n      <td>5965.0</td>\n      <td>2953.0</td>\n      <td>4132.0</td>\n      <td>23905.0</td>\n      <td>153383.0</td>\n      <td>84.0</td>\n      <td>105.0</td>\n      <td>14.0</td>\n      <td>73.0</td>\n    </tr>\n    <tr>\n      <th>2016</th>\n      <td>5942.0</td>\n      <td>731.0</td>\n      <td>857.0</td>\n      <td>66.0</td>\n      <td>341.0</td>\n      <td>50586.0</td>\n      <td>4403.0</td>\n      <td>4823.0</td>\n      <td>3880.0</td>\n      <td>3933.0</td>\n      <td>...</td>\n      <td>5706.0</td>\n      <td>2347.0</td>\n      <td>6773.0</td>\n      <td>2857.0</td>\n      <td>27881.0</td>\n      <td>242385.0</td>\n      <td>253.0</td>\n      <td>417.0</td>\n      <td>29.0</td>\n      <td>125.0</td>\n    </tr>\n    <tr>\n      <th>2018</th>\n      <td>4974.0</td>\n      <td>550.0</td>\n      <td>675.0</td>\n      <td>50.0</td>\n      <td>267.0</td>\n      <td>44239.0</td>\n      <td>3127.0</td>\n      <td>3607.0</td>\n      <td>3384.0</td>\n      <td>3412.0</td>\n      <td>...</td>\n      <td>2322.0</td>\n      <td>3728.0</td>\n      <td>1579.0</td>\n      <td>4802.0</td>\n      <td>23008.0</td>\n      <td>203251.0</td>\n      <td>189.0</td>\n      <td>278.0</td>\n      <td>20.0</td>\n      <td>78.0</td>\n    </tr>\n    <tr>\n      <th>2020</th>\n      <td>8263.0</td>\n      <td>633.0</td>\n      <td>945.0</td>\n      <td>79.0</td>\n      <td>334.0</td>\n      <td>55274.0</td>\n      <td>3907.0</td>\n      <td>5295.0</td>\n      <td>4579.0</td>\n      <td>3740.0</td>\n      <td>...</td>\n      <td>2242.0</td>\n      <td>1448.0</td>\n      <td>2535.0</td>\n      <td>984.0</td>\n      <td>18759.0</td>\n      <td>276972.0</td>\n      <td>221.0</td>\n      <td>411.0</td>\n      <td>53.0</td>\n      <td>168.0</td>\n    </tr>\n  </tbody>\n</table>\n<p>5 rows × 137 columns</p>\n</div>"
     },
     "metadata": {},
     "execution_count": 170
    }
   ],
   "source": [
    "sov_path = \"data/raw/c0{county}_g{year}_sov_data_by_g{year}_srprec.csv\"\n",
    "sor_path = \"data/raw/c0{county}_g{year}_voters_by_g{year}_srprec.csv\"\n",
    "\n",
    "sov_san_luis = []\n",
    "sov_santa_barbara = []\n",
    "sor_san_luis = []\n",
    "sor_santa_barbara= []\n",
    "\n",
    "df_sov_sb_combined = None\n",
    "df_sov_sl_combined = None\n",
    "\n",
    "df_election_totals = pd.DataFrame()\n",
    "df_registration_totals = pd.DataFrame()\n",
    "\n",
    "# Iterate over election cycles.\n",
    "for year in [\"12\", \"14\", \"16\", \"18\", \"20\"]:\n",
    "    \n",
    "    # Read sov data for each county.\n",
    "    df_sov_sb = pd.read_csv(sov_path.format(county=\"83\", year=year))\n",
    "    df_sov_sl = pd.read_csv(sov_path.format(county=\"79\", year=year))\n",
    "\n",
    "    # Read sor data for each county.\n",
    "    df_sor_sb = pd.read_csv(sor_path.format(county=\"83\", year=year))\n",
    "    df_sor_sl = pd.read_csv(sor_path.format(county=\"83\", year=year))\n",
    "\n",
    "    # Filter precincts to only those that are in the correct district.\n",
    "    df_sov_sb = df_sov_sb[df_sov_sb[\"addist\"] == 35]\n",
    "    df_sov_sl = df_sov_sl[df_sov_sl[\"addist\"] == 35]\n",
    "\n",
    "    # SOR files don't contain information about what AD they belong to. \n",
    "    # So we need to filter them by the related SOV file. \n",
    "    df_sor_sb = df_sor_sb[df_sor_sb[\"srprec\"].isin(df_sov_sb[\"srprec\"])]\n",
    "    df_sor_sl = df_sor_sl[df_sor_sl[\"srprec\"].isin(df_sor_sl[\"srprec\"])]\n",
    "\n",
    "    # Get totals. We can't use the reported county totals - because they don't\n",
    "    # necessarily reflect the totals of assembly districts.\n",
    "    sr_sov_sb_totals = df_sov_sb.iloc[:, 6:].sum()\n",
    "    sr_sov_sl_totals = df_sov_sl.iloc[:, 6:].sum()\n",
    "    sr_cycle_totals = sr_sov_sb_totals + sr_sov_sl_totals\n",
    "\n",
    "    # Add the cycle year to summated Series. \n",
    "    sr_year = pd.Series(data=[\"20\" + year], index=[\"year\"])\n",
    "    sr_cycle_totals = sr_cycle_totals.append(sr_year)\n",
    "\n",
    "    # Total information about registration.\n",
    "    sr_sor_sb_totals = df_sor_sb.iloc[:, 3:].sum()\n",
    "    sr_sor_sl_totals = df_sor_sl.iloc[:, 3:].sum()\n",
    "    sr_reg_totals = sr_sor_sb_totals + sr_sor_sl_totals\n",
    "\n",
    "    sr_reg_totals = sr_reg_totals.append(sr_year)\n",
    "\n",
    "    # Add summated totals to election total\n",
    "    df_election_totals = df_election_totals.append(sr_cycle_totals, ignore_index=True)\n",
    "    df_registration_totals = df_registration_totals.append(sr_reg_totals, ignore_index=True)\n",
    "   \n",
    "    # Determine the previous cycle - used to suffix columns labels during merge\n",
    "    prev = str(int(year) - 2)\n",
    "\n",
    "    # Merge datasets by precinct.  \n",
    "    df_sov_sb_combined = df_sov_sb if df_sov_sb_combined is None else \\\n",
    "        df_sov_sb_combined.merge(\n",
    "            right=df_sov_sb, \n",
    "            on=\"srprec\", \n",
    "            how=\"inner\", \n",
    "            suffixes=[\"_{}\".format(prev), \"_{}\".format(year)])\n",
    "\n",
    "    df_sov_sl_combined = df_sov_sl if df_sov_sl_combined is None else \\\n",
    "        df_sov_sl_combined.merge(\n",
    "            right=df_sov_sl, \n",
    "            on=\"srprec\", \n",
    "            how=\"inner\", \n",
    "            suffixes=[\"_{}\".format(prev), \"_{}\".format(year)])\n",
    "\n",
    "    sov_san_luis.append(df_sov_sl)\n",
    "    sov_santa_barbara.append(df_sov_sb)\n",
    "\n",
    "df_election_totals.set_index(\"year\", inplace=True)\n",
    "df_registration_totals.set_index(\"year\", inplace=True)\n",
    "# df_election_totals\n",
    "\n",
    "df_registration_totals\n"
   ]
  },
  {
   "cell_type": "code",
   "execution_count": 56,
   "metadata": {},
   "outputs": [
    {
     "output_type": "stream",
     "name": "stdout",
     "text": [
      "(171, 191)\nFiltered precincts 380 vs 725 total precincts\n"
     ]
    }
   ],
   "source": [
    "df_concat_sb = pd.concat(sov_santa_barbara, axis=0)\n",
    "df_filtered_sb = df_concat_sb.groupby(\"srprec\").filter(lambda x : len(x) > 2)\n",
    "print(df_filtered_sb.shape)\n",
    "\n",
    "df_concat_slo = pd.concat(sov_san_luis, axis=0)\n",
    "df_filtered_slo = df_concat_slo.groupby(\"srprec\").filter(lambda x : len(x) > 4)\n",
    "print(\"Filtered precincts {} vs {} total precincts\".format(df_filtered_slo.shape[0], df_concat_slo.shape[0]))"
   ]
  },
  {
   "source": [
    "## Validating Results   \n",
    "\n",
    "We can perform a basic sanity check on the results of our filtered data, by comparing our own summated results of the assembly races with the certified totals. These totals were retrieved from BallotPedia "
   ],
   "cell_type": "markdown",
   "metadata": {}
  },
  {
   "cell_type": "code",
   "execution_count": 153,
   "metadata": {},
   "outputs": [],
   "source": [
    "\n",
    "confirmed_totals = { '2020' : [103206, 126579], \n",
    "#                     '2018' : [76994, 97749],\n",
    "                     '2016' : [87168, 105247], \n",
    "                     '2014' : [46126, 77452],\n",
    "                     '2012' : [65500, 103762]}\n",
    "\n",
    "print(df_election_totals.loc[2018][\"ASSREP01\"])\n",
    "for yr in confirmed_totals:\n",
    "    demVotes = df_election_totals.loc[yr][\"ASSDEM01\"]\n",
    "    repVotes = df_election_totals.loc[yr][\"ASSREP01\"]\n",
    "    demExpected = confirmed_totals[yr][0]\n",
    "    repExpected = confirmed_totals[yr][1]\n",
    "    assert demExpected == demVotes, \"({}) Data was {} but expected: {}\".format(yr, demVotes, demExpected)\n",
    "    assert repExpected == repVotes, \"({}) Data was {} but expected: {}\".format(yr, repVotes, repExpected)"
   ]
  },
  {
   "source": [
    "Interesting, and rather frustratingly, it appears that Santa Barbara's 2018 county file does not actually contain information about the assembly's votes."
   ],
   "cell_type": "markdown",
   "metadata": {}
  },
  {
   "source": [
    "## Exporting Results"
   ],
   "cell_type": "markdown",
   "metadata": {}
  },
  {
   "cell_type": "code",
   "execution_count": 174,
   "metadata": {},
   "outputs": [],
   "source": [
    "df_election_totals.to_csv(\"data/processed/election_totals.csv\")\n",
    "df_registration_totals.to_csv(\"data/processed/registration_totals.csv\")"
   ]
  },
  {
   "cell_type": "code",
   "execution_count": null,
   "metadata": {},
   "outputs": [],
   "source": []
  }
 ]
}