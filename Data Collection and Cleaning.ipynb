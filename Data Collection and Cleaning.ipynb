{
 "metadata": {
  "language_info": {
   "codemirror_mode": {
    "name": "ipython",
    "version": 3
   },
   "file_extension": ".py",
   "mimetype": "text/x-python",
   "name": "python",
   "nbconvert_exporter": "python",
   "pygments_lexer": "ipython3",
   "version": "3.9.2-final"
  },
  "orig_nbformat": 2,
  "kernelspec": {
   "name": "python3",
   "display_name": "Python 3.9.2 64-bit",
   "metadata": {
    "interpreter": {
     "hash": "852ccab4b5e14e031fe19820f4a1aa893ec9b463a707240490279419b42ddda6"
    }
   }
  }
 },
 "nbformat": 4,
 "nbformat_minor": 2,
 "cells": [
  {
   "cell_type": "code",
   "execution_count": 37,
   "metadata": {},
   "outputs": [],
   "source": [
    "import pandas as pd "
   ]
  },
  {
   "cell_type": "code",
   "execution_count": 38,
   "metadata": {},
   "outputs": [
    {
     "output_type": "stream",
     "name": "stdout",
     "text": [
      "142 142\n",
      "161 161\n",
      "153 153\n",
      "152 152\n",
      "103 103\n"
     ]
    },
    {
     "output_type": "execute_result",
     "data": {
      "text/plain": [
       "         aip  chidcl  chidem  chioth  chirep      dcl  dclf1824  dclf2534  \\\n",
       "year                                                                        \n",
       "2012  1821.0   109.0    72.0    25.0    79.0  14647.0    2070.0    1953.0   \n",
       "2014  3427.0   182.0   125.0    30.0   105.0  26406.0    3007.0    3536.0   \n",
       "2016  1888.0   128.0    90.0    12.0    77.0  15311.0    1772.0    2045.0   \n",
       "2018  2826.0   230.0   125.0    18.0    81.0  27321.0    2965.0    3537.0   \n",
       "2020  1985.0   104.0    72.0    14.0    53.0  15143.0    1497.0    2031.0   \n",
       "\n",
       "      dclf3544  dclf4554  ...  rreg5g  rreg6g  rreg7g  rreg8g  rreg9g  \\\n",
       "year                      ...                                           \n",
       "2012    1042.0     910.0  ...  2112.0   693.0   808.0   463.0  2435.0   \n",
       "2014    2258.0    2016.0  ...  1560.0  3256.0  1020.0  1436.0  4927.0   \n",
       "2016    1135.0     939.0  ...  1233.0   430.0  1170.0   373.0  2552.0   \n",
       "2018    2343.0    1704.0  ...   760.0  1156.0   422.0  1165.0  3142.0   \n",
       "2020    1245.0     723.0  ...   375.0   228.0   278.0   105.0  1249.0   \n",
       "\n",
       "      totreg_r  vietdcl  vietdem  vietoth  vietrep  \n",
       "year                                                \n",
       "2012   48464.0     31.0     29.0      9.0     36.0  \n",
       "2014   90187.0     69.0     56.0     16.0     45.0  \n",
       "2016   48249.0     54.0     56.0      9.0     28.0  \n",
       "2018   77639.0     93.0     74.0     10.0     41.0  \n",
       "2020   43442.0     44.0     37.0     16.0     23.0  \n",
       "\n",
       "[5 rows x 137 columns]"
      ],
      "text/html": "<div>\n<style scoped>\n    .dataframe tbody tr th:only-of-type {\n        vertical-align: middle;\n    }\n\n    .dataframe tbody tr th {\n        vertical-align: top;\n    }\n\n    .dataframe thead th {\n        text-align: right;\n    }\n</style>\n<table border=\"1\" class=\"dataframe\">\n  <thead>\n    <tr style=\"text-align: right;\">\n      <th></th>\n      <th>aip</th>\n      <th>chidcl</th>\n      <th>chidem</th>\n      <th>chioth</th>\n      <th>chirep</th>\n      <th>dcl</th>\n      <th>dclf1824</th>\n      <th>dclf2534</th>\n      <th>dclf3544</th>\n      <th>dclf4554</th>\n      <th>...</th>\n      <th>rreg5g</th>\n      <th>rreg6g</th>\n      <th>rreg7g</th>\n      <th>rreg8g</th>\n      <th>rreg9g</th>\n      <th>totreg_r</th>\n      <th>vietdcl</th>\n      <th>vietdem</th>\n      <th>vietoth</th>\n      <th>vietrep</th>\n    </tr>\n    <tr>\n      <th>year</th>\n      <th></th>\n      <th></th>\n      <th></th>\n      <th></th>\n      <th></th>\n      <th></th>\n      <th></th>\n      <th></th>\n      <th></th>\n      <th></th>\n      <th></th>\n      <th></th>\n      <th></th>\n      <th></th>\n      <th></th>\n      <th></th>\n      <th></th>\n      <th></th>\n      <th></th>\n      <th></th>\n      <th></th>\n    </tr>\n  </thead>\n  <tbody>\n    <tr>\n      <th>2012</th>\n      <td>1821.0</td>\n      <td>109.0</td>\n      <td>72.0</td>\n      <td>25.0</td>\n      <td>79.0</td>\n      <td>14647.0</td>\n      <td>2070.0</td>\n      <td>1953.0</td>\n      <td>1042.0</td>\n      <td>910.0</td>\n      <td>...</td>\n      <td>2112.0</td>\n      <td>693.0</td>\n      <td>808.0</td>\n      <td>463.0</td>\n      <td>2435.0</td>\n      <td>48464.0</td>\n      <td>31.0</td>\n      <td>29.0</td>\n      <td>9.0</td>\n      <td>36.0</td>\n    </tr>\n    <tr>\n      <th>2014</th>\n      <td>3427.0</td>\n      <td>182.0</td>\n      <td>125.0</td>\n      <td>30.0</td>\n      <td>105.0</td>\n      <td>26406.0</td>\n      <td>3007.0</td>\n      <td>3536.0</td>\n      <td>2258.0</td>\n      <td>2016.0</td>\n      <td>...</td>\n      <td>1560.0</td>\n      <td>3256.0</td>\n      <td>1020.0</td>\n      <td>1436.0</td>\n      <td>4927.0</td>\n      <td>90187.0</td>\n      <td>69.0</td>\n      <td>56.0</td>\n      <td>16.0</td>\n      <td>45.0</td>\n    </tr>\n    <tr>\n      <th>2016</th>\n      <td>1888.0</td>\n      <td>128.0</td>\n      <td>90.0</td>\n      <td>12.0</td>\n      <td>77.0</td>\n      <td>15311.0</td>\n      <td>1772.0</td>\n      <td>2045.0</td>\n      <td>1135.0</td>\n      <td>939.0</td>\n      <td>...</td>\n      <td>1233.0</td>\n      <td>430.0</td>\n      <td>1170.0</td>\n      <td>373.0</td>\n      <td>2552.0</td>\n      <td>48249.0</td>\n      <td>54.0</td>\n      <td>56.0</td>\n      <td>9.0</td>\n      <td>28.0</td>\n    </tr>\n    <tr>\n      <th>2018</th>\n      <td>2826.0</td>\n      <td>230.0</td>\n      <td>125.0</td>\n      <td>18.0</td>\n      <td>81.0</td>\n      <td>27321.0</td>\n      <td>2965.0</td>\n      <td>3537.0</td>\n      <td>2343.0</td>\n      <td>1704.0</td>\n      <td>...</td>\n      <td>760.0</td>\n      <td>1156.0</td>\n      <td>422.0</td>\n      <td>1165.0</td>\n      <td>3142.0</td>\n      <td>77639.0</td>\n      <td>93.0</td>\n      <td>74.0</td>\n      <td>10.0</td>\n      <td>41.0</td>\n    </tr>\n    <tr>\n      <th>2020</th>\n      <td>1985.0</td>\n      <td>104.0</td>\n      <td>72.0</td>\n      <td>14.0</td>\n      <td>53.0</td>\n      <td>15143.0</td>\n      <td>1497.0</td>\n      <td>2031.0</td>\n      <td>1245.0</td>\n      <td>723.0</td>\n      <td>...</td>\n      <td>375.0</td>\n      <td>228.0</td>\n      <td>278.0</td>\n      <td>105.0</td>\n      <td>1249.0</td>\n      <td>43442.0</td>\n      <td>44.0</td>\n      <td>37.0</td>\n      <td>16.0</td>\n      <td>23.0</td>\n    </tr>\n  </tbody>\n</table>\n<p>5 rows × 137 columns</p>\n</div>"
     },
     "metadata": {},
     "execution_count": 38
    }
   ],
   "source": [
    "sov_path = \"data/raw/c0{county}_g{year}_sov_data_by_g{year}_srprec.csv\"\n",
    "sor_path = \"data/raw/c0{county}_g{year}_voters_by_g{year}_srprec.csv\"\n",
    "reg_path = \"data/raw/c0{county}_g{year}_registration_by_g{year}_srprec.csv\"\n",
    "\n",
    "sov_san_luis = []\n",
    "sov_santa_barbara = []\n",
    "sor_san_luis = []\n",
    "sor_santa_barbara = []\n",
    "reg_san_luis = []\n",
    "reg_santa_barbara = []\n",
    "\n",
    "df_sov_sb_combined = None\n",
    "df_sov_sl_combined = None\n",
    "\n",
    "df_election_totals = pd.DataFrame()\n",
    "df_registration_voted_totals = pd.DataFrame()\n",
    "df_registration_totals = pd.DataFrame()\n",
    "\n",
    "# Iterate over election cycles.\n",
    "for year in [\"12\", \"14\", \"16\", \"18\", \"20\"]:\n",
    "    \n",
    "    # Read sov data for each county.\n",
    "    df_sov_sb = pd.read_csv(sov_path.format(county=\"83\", year=year))\n",
    "    df_sov_sl = pd.read_csv(sov_path.format(county=\"79\", year=year))\n",
    "\n",
    "    # Read sor data for each county.\n",
    "    df_sor_sb = pd.read_csv(sor_path.format(county=\"83\", year=year))\n",
    "    df_sor_sl = pd.read_csv(sor_path.format(county=\"79\", year=year))\n",
    "\n",
    "    # Read registration information for each county.\n",
    "    df_reg_sb = pd.read_csv(reg_path.format(county=\"83\", year=year))\n",
    "    df_reg_sl = pd.read_csv(reg_path.format(county=\"79\", year=year))\n",
    "\n",
    "    # Filter precincts to only those that are in the correct district.\n",
    "    df_sov_sb = df_sov_sb[df_sov_sb[\"addist\"] == 35]\n",
    "    df_sov_sl = df_sov_sl[df_sov_sl[\"addist\"] == 35]\n",
    "\n",
    "    top_race = \"GOV\" if year in [\"14\", \"18\"] else \"PRS\"\n",
    "    df_sov_sb[\"TOPREP01\"] = df_sov_sb[\"{}REP01\".format(top_race)]\n",
    "    df_sov_sb[\"TOPDEM01\"] = df_sov_sb[\"{}DEM01\".format(top_race)]\n",
    "    df_sov_sl[\"TOPREP01\"] = df_sov_sl[\"{}REP01\".format(top_race)]\n",
    "    df_sov_sl[\"TOPDEM01\"] = df_sov_sl[\"{}DEM01\".format(top_race)]\n",
    "\n",
    "\n",
    "    # SOR files don't contain information about what AD they belong to. \n",
    "    # So we need to filter them by the related SOV file. \n",
    "    df_sor_sb = df_sor_sb[df_sor_sb[\"srprec\"].isin(df_sov_sb[\"srprec\"])]\n",
    "    df_sor_sl = df_sor_sl[df_sor_sl[\"srprec\"].isin(df_sor_sl[\"srprec\"])]\n",
    "\n",
    "    # Likewise, registration files do not include assembly district to filter on.\n",
    "    df_reg_sb = df_reg_sb[df_reg_sb[\"srprec\"].isin(df_sov_sb[\"srprec\"])]\n",
    "    df_reg_sl = df_reg_sl[df_reg_sl[\"srprec\"].isin(df_sov_sl[\"srprec\"])]\n",
    "\n",
    "    print(df_reg_sl.shape[0], df_sor_sl.shape[0])\n",
    "\n",
    "    # Get totals. We can't use the reported county totals - because they don't\n",
    "    # necessarily reflect the totals of assembly districts.\n",
    "    sr_sov_sb_totals = df_sov_sb.iloc[:, 6:].sum()\n",
    "    sr_sov_sl_totals = df_sov_sl.iloc[:, 6:].sum()\n",
    "    sr_cycle_totals = sr_sov_sb_totals + sr_sov_sl_totals\n",
    "\n",
    "    # Add the cycle year to summated Series. \n",
    "    sr_year = pd.Series(data=[\"20\" + year], index=[\"year\"])\n",
    "    sr_cycle_totals = sr_cycle_totals.append(sr_year)\n",
    "\n",
    "    # Total information about registration for those who voted.\n",
    "    sr_sor_sb_totals = df_sor_sb.iloc[:, 3:].sum()\n",
    "    sr_sor_sl_totals = df_sor_sl.iloc[:, 3:].sum()\n",
    "    sr_reg_vote_totals = sr_sor_sb_totals + sr_sor_sl_totals\n",
    "\n",
    "    sr_reg_vote_totals = sr_reg_vote_totals.append(sr_year)\n",
    "\n",
    "    # Total registration information for all voters in the district.\n",
    "    sr_reg_sb_totals = df_reg_sb.iloc[:, 3:].sum()\n",
    "    sr_reg_sl_totals = df_reg_sl.iloc[:, 3:].sum()\n",
    "    sr_reg_totals = sr_reg_sb_totals + sr_reg_sl_totals\n",
    "\n",
    "    sr_reg_totals = sr_reg_totals.append(sr_year)\n",
    "\n",
    "    # Add summated totals to election total\n",
    "    df_election_totals = df_election_totals.append(sr_cycle_totals, ignore_index=True)\n",
    "    df_registration_voted_totals = df_registration_voted_totals.append(sr_reg_vote_totals, ignore_index=True)\n",
    "    df_registration_totals = df_registration_totals.append(sr_reg_totals, ignore_index=True)\n",
    "   \n",
    "    # Determine the previous cycle - used to suffix columns labels during merge\n",
    "    prev = str(int(year) - 2)\n",
    "\n",
    "    # Merge datasets by precinct.  \n",
    "    df_sov_sb_combined = df_sov_sb if df_sov_sb_combined is None else \\\n",
    "        df_sov_sb_combined.merge(\n",
    "            right=df_sov_sb, \n",
    "            on=\"srprec\", \n",
    "            how=\"inner\", \n",
    "            suffixes=[\"_{}\".format(prev), \"_{}\".format(year)])\n",
    "\n",
    "    df_sov_sl_combined = df_sov_sl if df_sov_sl_combined is None else \\\n",
    "        df_sov_sl_combined.merge(\n",
    "            right=df_sov_sl, \n",
    "            on=\"srprec\", \n",
    "            how=\"inner\", \n",
    "            suffixes=[\"_{}\".format(prev), \"_{}\".format(year)])\n",
    "\n",
    "   \n",
    "\n",
    "    # Add a year column to the dataset.\n",
    "    df_sov_sb[\"year\"] = \"20{}\".format(year)\n",
    "    df_sov_sl[\"year\"] = \"20{}\".format(year)    \n",
    "\n",
    "    # Append to list of dataframes for later work.\n",
    "    sov_san_luis.append(df_sov_sl)\n",
    "    sov_santa_barbara.append(df_sov_sb)\n",
    "\n",
    "    df_reg_sb[\"year\"] = \"20{}\".format(year)\n",
    "    df_reg_sl[\"year\"] = \"20{}\".format(year)\n",
    "\n",
    "    reg_san_luis.append(df_reg_sl)\n",
    "    reg_santa_barbara.append(df_reg_sb)\n",
    "\n",
    "df_election_totals.set_index(\"year\", inplace=True)\n",
    "df_registration_voted_totals.set_index(\"year\", inplace=True)\n",
    "df_registration_totals.set_index(\"year\", inplace=True)\n",
    "\n",
    "# df_election_totals\n",
    "#df_registration_voted_totals\n",
    "df_registration_totals - df_registration_voted_totals\n"
   ]
  },
  {
   "cell_type": "code",
   "execution_count": 39,
   "metadata": {},
   "outputs": [
    {
     "output_type": "stream",
     "name": "stdout",
     "text": [
      "Filtered precincts 171 vs 431 total precincts\nFiltered precincts 380 vs 725 total precincts\nFiltered precincts 380 vs 1156 total precincts\n"
     ]
    },
    {
     "output_type": "execute_result",
     "data": {
      "text/plain": [
       "     county srprec  addist  cddist  sddist  bedist  TOTREG  DEMREG  REPREG  \\\n",
       "0        40    103      35      24      17     2.0    1304       0       0   \n",
       "1        40    104      35      24      17     2.0    1466       0       0   \n",
       "2        40    105      35      24      17     2.0     668       0       0   \n",
       "3        40    106      35      24      17     2.0    1302       0       0   \n",
       "4        40    107      35      24      17     2.0     533       0       0   \n",
       "..      ...    ...     ...     ...     ...     ...     ...     ...     ...   \n",
       "375      40    517      35      24      17     2.0     898       0       0   \n",
       "376      40    518      35      24      17     2.0    2644       0       0   \n",
       "377      40    519      35      24      17     2.0    2812       0       0   \n",
       "378      40    520      35      24      17     2.0    1913       0       0   \n",
       "379      40    521      35      24      17     2.0     117       0       0   \n",
       "\n",
       "     AIPREG  ...  ireg9g  oreg1g  oreg2g  oreg3g  oreg4g  oreg5g  oreg6g  \\\n",
       "0         0  ...      26      17      15      13       2       7       4   \n",
       "1         0  ...      21      11      13      11      10       9       3   \n",
       "2         0  ...      16      12       5       6       1       5       1   \n",
       "3         0  ...      14      10      14       9       3       4       2   \n",
       "4         0  ...       4       7       4       4       3       3       1   \n",
       "..      ...  ...     ...     ...     ...     ...     ...     ...     ...   \n",
       "375       0  ...      30      43       9       7       0       2       0   \n",
       "376       0  ...      27     108      25       9       2       8       1   \n",
       "377       0  ...      25     119      17       8       2       3       1   \n",
       "378       0  ...       8     100      18       5       2       2       1   \n",
       "379       0  ...       0       7       4       0       0       0       0   \n",
       "\n",
       "     oreg7g  oreg8g  oreg9g  \n",
       "0         5       4      14  \n",
       "1         5       3      10  \n",
       "2         0       0       6  \n",
       "3         2       1       3  \n",
       "4         2       2       0  \n",
       "..      ...     ...     ...  \n",
       "375       2       3       7  \n",
       "376       1       1       4  \n",
       "377       3       0       5  \n",
       "378       2       0       1  \n",
       "379       0       0       0  \n",
       "\n",
       "[380 rows x 333 columns]"
      ],
      "text/html": "<div>\n<style scoped>\n    .dataframe tbody tr th:only-of-type {\n        vertical-align: middle;\n    }\n\n    .dataframe tbody tr th {\n        vertical-align: top;\n    }\n\n    .dataframe thead th {\n        text-align: right;\n    }\n</style>\n<table border=\"1\" class=\"dataframe\">\n  <thead>\n    <tr style=\"text-align: right;\">\n      <th></th>\n      <th>county</th>\n      <th>srprec</th>\n      <th>addist</th>\n      <th>cddist</th>\n      <th>sddist</th>\n      <th>bedist</th>\n      <th>TOTREG</th>\n      <th>DEMREG</th>\n      <th>REPREG</th>\n      <th>AIPREG</th>\n      <th>...</th>\n      <th>ireg9g</th>\n      <th>oreg1g</th>\n      <th>oreg2g</th>\n      <th>oreg3g</th>\n      <th>oreg4g</th>\n      <th>oreg5g</th>\n      <th>oreg6g</th>\n      <th>oreg7g</th>\n      <th>oreg8g</th>\n      <th>oreg9g</th>\n    </tr>\n  </thead>\n  <tbody>\n    <tr>\n      <th>0</th>\n      <td>40</td>\n      <td>103</td>\n      <td>35</td>\n      <td>24</td>\n      <td>17</td>\n      <td>2.0</td>\n      <td>1304</td>\n      <td>0</td>\n      <td>0</td>\n      <td>0</td>\n      <td>...</td>\n      <td>26</td>\n      <td>17</td>\n      <td>15</td>\n      <td>13</td>\n      <td>2</td>\n      <td>7</td>\n      <td>4</td>\n      <td>5</td>\n      <td>4</td>\n      <td>14</td>\n    </tr>\n    <tr>\n      <th>1</th>\n      <td>40</td>\n      <td>104</td>\n      <td>35</td>\n      <td>24</td>\n      <td>17</td>\n      <td>2.0</td>\n      <td>1466</td>\n      <td>0</td>\n      <td>0</td>\n      <td>0</td>\n      <td>...</td>\n      <td>21</td>\n      <td>11</td>\n      <td>13</td>\n      <td>11</td>\n      <td>10</td>\n      <td>9</td>\n      <td>3</td>\n      <td>5</td>\n      <td>3</td>\n      <td>10</td>\n    </tr>\n    <tr>\n      <th>2</th>\n      <td>40</td>\n      <td>105</td>\n      <td>35</td>\n      <td>24</td>\n      <td>17</td>\n      <td>2.0</td>\n      <td>668</td>\n      <td>0</td>\n      <td>0</td>\n      <td>0</td>\n      <td>...</td>\n      <td>16</td>\n      <td>12</td>\n      <td>5</td>\n      <td>6</td>\n      <td>1</td>\n      <td>5</td>\n      <td>1</td>\n      <td>0</td>\n      <td>0</td>\n      <td>6</td>\n    </tr>\n    <tr>\n      <th>3</th>\n      <td>40</td>\n      <td>106</td>\n      <td>35</td>\n      <td>24</td>\n      <td>17</td>\n      <td>2.0</td>\n      <td>1302</td>\n      <td>0</td>\n      <td>0</td>\n      <td>0</td>\n      <td>...</td>\n      <td>14</td>\n      <td>10</td>\n      <td>14</td>\n      <td>9</td>\n      <td>3</td>\n      <td>4</td>\n      <td>2</td>\n      <td>2</td>\n      <td>1</td>\n      <td>3</td>\n    </tr>\n    <tr>\n      <th>4</th>\n      <td>40</td>\n      <td>107</td>\n      <td>35</td>\n      <td>24</td>\n      <td>17</td>\n      <td>2.0</td>\n      <td>533</td>\n      <td>0</td>\n      <td>0</td>\n      <td>0</td>\n      <td>...</td>\n      <td>4</td>\n      <td>7</td>\n      <td>4</td>\n      <td>4</td>\n      <td>3</td>\n      <td>3</td>\n      <td>1</td>\n      <td>2</td>\n      <td>2</td>\n      <td>0</td>\n    </tr>\n    <tr>\n      <th>...</th>\n      <td>...</td>\n      <td>...</td>\n      <td>...</td>\n      <td>...</td>\n      <td>...</td>\n      <td>...</td>\n      <td>...</td>\n      <td>...</td>\n      <td>...</td>\n      <td>...</td>\n      <td>...</td>\n      <td>...</td>\n      <td>...</td>\n      <td>...</td>\n      <td>...</td>\n      <td>...</td>\n      <td>...</td>\n      <td>...</td>\n      <td>...</td>\n      <td>...</td>\n      <td>...</td>\n    </tr>\n    <tr>\n      <th>375</th>\n      <td>40</td>\n      <td>517</td>\n      <td>35</td>\n      <td>24</td>\n      <td>17</td>\n      <td>2.0</td>\n      <td>898</td>\n      <td>0</td>\n      <td>0</td>\n      <td>0</td>\n      <td>...</td>\n      <td>30</td>\n      <td>43</td>\n      <td>9</td>\n      <td>7</td>\n      <td>0</td>\n      <td>2</td>\n      <td>0</td>\n      <td>2</td>\n      <td>3</td>\n      <td>7</td>\n    </tr>\n    <tr>\n      <th>376</th>\n      <td>40</td>\n      <td>518</td>\n      <td>35</td>\n      <td>24</td>\n      <td>17</td>\n      <td>2.0</td>\n      <td>2644</td>\n      <td>0</td>\n      <td>0</td>\n      <td>0</td>\n      <td>...</td>\n      <td>27</td>\n      <td>108</td>\n      <td>25</td>\n      <td>9</td>\n      <td>2</td>\n      <td>8</td>\n      <td>1</td>\n      <td>1</td>\n      <td>1</td>\n      <td>4</td>\n    </tr>\n    <tr>\n      <th>377</th>\n      <td>40</td>\n      <td>519</td>\n      <td>35</td>\n      <td>24</td>\n      <td>17</td>\n      <td>2.0</td>\n      <td>2812</td>\n      <td>0</td>\n      <td>0</td>\n      <td>0</td>\n      <td>...</td>\n      <td>25</td>\n      <td>119</td>\n      <td>17</td>\n      <td>8</td>\n      <td>2</td>\n      <td>3</td>\n      <td>1</td>\n      <td>3</td>\n      <td>0</td>\n      <td>5</td>\n    </tr>\n    <tr>\n      <th>378</th>\n      <td>40</td>\n      <td>520</td>\n      <td>35</td>\n      <td>24</td>\n      <td>17</td>\n      <td>2.0</td>\n      <td>1913</td>\n      <td>0</td>\n      <td>0</td>\n      <td>0</td>\n      <td>...</td>\n      <td>8</td>\n      <td>100</td>\n      <td>18</td>\n      <td>5</td>\n      <td>2</td>\n      <td>2</td>\n      <td>1</td>\n      <td>2</td>\n      <td>0</td>\n      <td>1</td>\n    </tr>\n    <tr>\n      <th>379</th>\n      <td>40</td>\n      <td>521</td>\n      <td>35</td>\n      <td>24</td>\n      <td>17</td>\n      <td>2.0</td>\n      <td>117</td>\n      <td>0</td>\n      <td>0</td>\n      <td>0</td>\n      <td>...</td>\n      <td>0</td>\n      <td>7</td>\n      <td>4</td>\n      <td>0</td>\n      <td>0</td>\n      <td>0</td>\n      <td>0</td>\n      <td>0</td>\n      <td>0</td>\n      <td>0</td>\n    </tr>\n  </tbody>\n</table>\n<p>380 rows × 333 columns</p>\n</div>"
     },
     "metadata": {},
     "execution_count": 39
    }
   ],
   "source": [
    "df_concat_sb = pd.concat(sov_santa_barbara, axis=0)\n",
    "df_filtered_sb = df_concat_sb.groupby(\"srprec\").filter(lambda x : len(x) > 2)\n",
    "# print(df_filtered_sb[\"year\"].unique())\n",
    "print(\"Filtered precincts {} vs {} total precincts\".format(df_filtered_sb.shape[0], df_concat_sb.shape[0]))\n",
    "\n",
    "df_concat_slo = pd.concat(sov_san_luis, axis=0)\n",
    "df_filtered_slo = df_concat_slo.groupby(\"srprec\").filter(lambda x : len(x) > 4)\n",
    "print(\"Filtered precincts {} vs {} total precincts\".format(df_filtered_slo.shape[0], df_concat_slo.shape[0]))\n",
    "\n",
    "\n",
    "df_combined_precincts = pd.concat([df_concat_sb, df_concat_slo])\n",
    "df_precincts_over_time = df_combined_precincts.groupby(\"srprec\").filter(lambda x : len(x) > 4)\n",
    "print(\"Filtered precincts {} vs {} total precincts\".format(df_precincts_over_time.shape[0], df_combined_precincts.shape[0]))\n",
    "\n",
    "df_combined_registration = pd.concat(reg_san_luis, axis=0)\n",
    "df_combined_registration.append(pd.concat(reg_santa_barbara, axis=0))\n",
    "\n",
    "df_precincts_over_time_with_registration = df_precincts_over_time.merge(\n",
    "    df_combined_registration, \n",
    "    how=\"inner\",\n",
    "    on=[\"srprec\", \"year\"]\n",
    ")\n",
    "\n",
    "df_precincts_over_time_with_registration\n"
   ]
  },
  {
   "source": [
    "## Validating Results   \n",
    "\n",
    "We can perform a basic sanity check on the results of our filtered data, by comparing our own summated results of the assembly races with the certified totals. These totals were retrieved from BallotPedia "
   ],
   "cell_type": "markdown",
   "metadata": {}
  },
  {
   "cell_type": "code",
   "execution_count": 40,
   "metadata": {},
   "outputs": [],
   "source": [
    "\n",
    "confirmed_totals = { '2020' : [103206, 126579], \n",
    "#                     '2018' : [76994, 97749],\n",
    "                     '2016' : [87168, 105247], \n",
    "                     '2014' : [46126, 77452],\n",
    "                     '2012' : [65500, 103762]}\n",
    "\n",
    "\n",
    "for yr in confirmed_totals:\n",
    "    demVotes = df_election_totals.loc[yr][\"ASSDEM01\"]\n",
    "    repVotes = df_election_totals.loc[yr][\"ASSREP01\"]\n",
    "    demExpected = confirmed_totals[yr][0]\n",
    "    repExpected = confirmed_totals[yr][1]\n",
    "    assert demExpected == demVotes, \"({}) Data was {} but expected: {}\".format(yr, demVotes, demExpected)\n",
    "    assert repExpected == repVotes, \"({}) Data was {} but expected: {}\".format(yr, repVotes, repExpected)"
   ]
  },
  {
   "source": [
    "Interestingly, and rather frustratingly, it appears that Santa Barbara's 2018 county file does not actually contain information about the assembly's votes."
   ],
   "cell_type": "markdown",
   "metadata": {}
  },
  {
   "source": [
    "## Exporting Results"
   ],
   "cell_type": "markdown",
   "metadata": {}
  },
  {
   "cell_type": "code",
   "execution_count": 41,
   "metadata": {},
   "outputs": [],
   "source": [
    "df_election_totals.to_csv(\"data/processed/election_totals.csv\")\n",
    "df_registration_voted_totals.to_csv(\"data/processed/registration_voted_totals.csv\")\n",
    "df_registration_totals.to_csv(\"data/processed/registration_totals.csv\")\n",
    "df_precincts_over_time.to_csv(\"data/processed/precincts_over_time.csv\")\n",
    "df_precincts_over_time_with_registration.to_csv(\"data/processed/precincts_with_registration.csv\")"
   ]
  },
  {
   "cell_type": "code",
   "execution_count": null,
   "metadata": {},
   "outputs": [],
   "source": []
  }
 ]
}