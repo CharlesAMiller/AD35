{
 "metadata": {
  "language_info": {
   "codemirror_mode": {
    "name": "ipython",
    "version": 3
   },
   "file_extension": ".py",
   "mimetype": "text/x-python",
   "name": "python",
   "nbconvert_exporter": "python",
   "pygments_lexer": "ipython3",
   "version": "3.6.9-final"
  },
  "orig_nbformat": 2,
  "kernelspec": {
   "name": "python36964bit6c95b7821d2a4af8a6bbd6e0be0e8199",
   "display_name": "Python 3.6.9 64-bit",
   "language": "python"
  }
 },
 "nbformat": 4,
 "nbformat_minor": 2,
 "cells": [
  {
   "source": [
    "# Machine Learning\n",
    "This notebook houses tasks related to\n"
   ],
   "cell_type": "markdown",
   "metadata": {}
  },
  {
   "cell_type": "code",
   "execution_count": 106,
   "metadata": {},
   "outputs": [],
   "source": [
    "import pandas as pd\n",
    "from sklearn.neighbors import KNeighborsRegressor\n",
    "from sklearn.preprocessing import StandardScaler\n",
    "from sklearn.metrics import mean_squared_error\n",
    "from sklearn.pipeline import make_pipeline"
   ]
  },
  {
   "cell_type": "code",
   "execution_count": 107,
   "metadata": {},
   "outputs": [
    {
     "output_type": "execute_result",
     "data": {
      "text/plain": [
       "      ABSVOTE  AIPREG  AIPVOTE  ASSDEM01  ASSDEM02  ASSIND01  ASSPAF01  \\\n",
       "year                                                                     \n",
       "2012      0.0     0.0      0.0   65500.0       0.0       0.0       0.0   \n",
       "2014      0.0     0.0      0.0   46126.0       0.0       0.0       NaN   \n",
       "2016      0.0     0.0      0.0   87168.0       0.0       0.0       NaN   \n",
       "2018      0.0     0.0      0.0   56257.0       0.0       0.0       NaN   \n",
       "2020      0.0     0.0      0.0  103206.0       0.0       0.0       NaN   \n",
       "\n",
       "      ASSREP01  ASSREP02  CNGDEM01  ...   rreg5g  rreg6g  rreg7g  rreg8g  \\\n",
       "year                                ...                                    \n",
       "2012  103762.0       0.0   86907.0  ...  10967.0  4656.0  5996.0  3922.0   \n",
       "2014   77452.0       0.0   59214.0  ...   4937.0  9098.0  3954.0  5177.0   \n",
       "2016  105247.0       0.0   89992.0  ...   6849.0  3395.0  7910.0  3179.0   \n",
       "2018   67443.0       NaN   91599.0  ...   3537.0  4856.0  2506.0  5984.0   \n",
       "2020  126579.0       0.0  120883.0  ...   3025.0  1985.0  2737.0  1425.0   \n",
       "\n",
       "       rreg9g  totreg_r  vietdcl  vietdem  vietoth  vietrep  \n",
       "year                                                         \n",
       "2012  23554.0  219403.0     70.0     82.0     18.0     89.0  \n",
       "2014  24026.0  216298.0     93.0     94.0     24.0     80.0  \n",
       "2016  25474.0  249413.0    143.0    174.0     21.0     92.0  \n",
       "2018  22393.0  248773.0    158.0    165.0     23.0     93.0  \n",
       "2020  17286.0  279110.0    164.0    232.0     51.0    152.0  \n",
       "\n",
       "[5 rows x 324 columns]"
      ],
      "text/html": "<div>\n<style scoped>\n    .dataframe tbody tr th:only-of-type {\n        vertical-align: middle;\n    }\n\n    .dataframe tbody tr th {\n        vertical-align: top;\n    }\n\n    .dataframe thead th {\n        text-align: right;\n    }\n</style>\n<table border=\"1\" class=\"dataframe\">\n  <thead>\n    <tr style=\"text-align: right;\">\n      <th></th>\n      <th>ABSVOTE</th>\n      <th>AIPREG</th>\n      <th>AIPVOTE</th>\n      <th>ASSDEM01</th>\n      <th>ASSDEM02</th>\n      <th>ASSIND01</th>\n      <th>ASSPAF01</th>\n      <th>ASSREP01</th>\n      <th>ASSREP02</th>\n      <th>CNGDEM01</th>\n      <th>...</th>\n      <th>rreg5g</th>\n      <th>rreg6g</th>\n      <th>rreg7g</th>\n      <th>rreg8g</th>\n      <th>rreg9g</th>\n      <th>totreg_r</th>\n      <th>vietdcl</th>\n      <th>vietdem</th>\n      <th>vietoth</th>\n      <th>vietrep</th>\n    </tr>\n    <tr>\n      <th>year</th>\n      <th></th>\n      <th></th>\n      <th></th>\n      <th></th>\n      <th></th>\n      <th></th>\n      <th></th>\n      <th></th>\n      <th></th>\n      <th></th>\n      <th></th>\n      <th></th>\n      <th></th>\n      <th></th>\n      <th></th>\n      <th></th>\n      <th></th>\n      <th></th>\n      <th></th>\n      <th></th>\n      <th></th>\n    </tr>\n  </thead>\n  <tbody>\n    <tr>\n      <th>2012</th>\n      <td>0.0</td>\n      <td>0.0</td>\n      <td>0.0</td>\n      <td>65500.0</td>\n      <td>0.0</td>\n      <td>0.0</td>\n      <td>0.0</td>\n      <td>103762.0</td>\n      <td>0.0</td>\n      <td>86907.0</td>\n      <td>...</td>\n      <td>10967.0</td>\n      <td>4656.0</td>\n      <td>5996.0</td>\n      <td>3922.0</td>\n      <td>23554.0</td>\n      <td>219403.0</td>\n      <td>70.0</td>\n      <td>82.0</td>\n      <td>18.0</td>\n      <td>89.0</td>\n    </tr>\n    <tr>\n      <th>2014</th>\n      <td>0.0</td>\n      <td>0.0</td>\n      <td>0.0</td>\n      <td>46126.0</td>\n      <td>0.0</td>\n      <td>0.0</td>\n      <td>NaN</td>\n      <td>77452.0</td>\n      <td>0.0</td>\n      <td>59214.0</td>\n      <td>...</td>\n      <td>4937.0</td>\n      <td>9098.0</td>\n      <td>3954.0</td>\n      <td>5177.0</td>\n      <td>24026.0</td>\n      <td>216298.0</td>\n      <td>93.0</td>\n      <td>94.0</td>\n      <td>24.0</td>\n      <td>80.0</td>\n    </tr>\n    <tr>\n      <th>2016</th>\n      <td>0.0</td>\n      <td>0.0</td>\n      <td>0.0</td>\n      <td>87168.0</td>\n      <td>0.0</td>\n      <td>0.0</td>\n      <td>NaN</td>\n      <td>105247.0</td>\n      <td>0.0</td>\n      <td>89992.0</td>\n      <td>...</td>\n      <td>6849.0</td>\n      <td>3395.0</td>\n      <td>7910.0</td>\n      <td>3179.0</td>\n      <td>25474.0</td>\n      <td>249413.0</td>\n      <td>143.0</td>\n      <td>174.0</td>\n      <td>21.0</td>\n      <td>92.0</td>\n    </tr>\n    <tr>\n      <th>2018</th>\n      <td>0.0</td>\n      <td>0.0</td>\n      <td>0.0</td>\n      <td>56257.0</td>\n      <td>0.0</td>\n      <td>0.0</td>\n      <td>NaN</td>\n      <td>67443.0</td>\n      <td>NaN</td>\n      <td>91599.0</td>\n      <td>...</td>\n      <td>3537.0</td>\n      <td>4856.0</td>\n      <td>2506.0</td>\n      <td>5984.0</td>\n      <td>22393.0</td>\n      <td>248773.0</td>\n      <td>158.0</td>\n      <td>165.0</td>\n      <td>23.0</td>\n      <td>93.0</td>\n    </tr>\n    <tr>\n      <th>2020</th>\n      <td>0.0</td>\n      <td>0.0</td>\n      <td>0.0</td>\n      <td>103206.0</td>\n      <td>0.0</td>\n      <td>0.0</td>\n      <td>NaN</td>\n      <td>126579.0</td>\n      <td>0.0</td>\n      <td>120883.0</td>\n      <td>...</td>\n      <td>3025.0</td>\n      <td>1985.0</td>\n      <td>2737.0</td>\n      <td>1425.0</td>\n      <td>17286.0</td>\n      <td>279110.0</td>\n      <td>164.0</td>\n      <td>232.0</td>\n      <td>51.0</td>\n      <td>152.0</td>\n    </tr>\n  </tbody>\n</table>\n<p>5 rows × 324 columns</p>\n</div>"
     },
     "metadata": {},
     "execution_count": 107
    }
   ],
   "source": [
    "data_dir = \"data/processed/\"\n",
    "\n",
    "# Import precinct data\n",
    "df_precincts = pd.read_csv(data_dir + \"precincts_with_registration.csv\")\n",
    "df_precincts.drop(\"Unnamed: 0\", axis=1, inplace=True)\n",
    "\n",
    "# Import election total data\n",
    "df_election_totals = pd.read_csv(data_dir + \"election_totals.csv\")\n",
    "df_election_totals.set_index(\"year\", inplace=True)\n",
    "\n",
    "df_registration_totals = pd.read_csv(data_dir + \"registration_totals.csv\")\n",
    "df_registration_totals.set_index(\"year\", inplace=True)\n",
    "\n",
    "df_elections_with_registration = df_election_totals.join(df_registration_totals, how=\"inner\")\n",
    "df_elections_with_registration\n"
   ]
  },
  {
   "source": [
    "## Using Party Registration to Predict Democratic Candidate Performance\n"
   ],
   "cell_type": "markdown",
   "metadata": {}
  },
  {
   "cell_type": "code",
   "execution_count": 108,
   "metadata": {},
   "outputs": [
    {
     "output_type": "execute_result",
     "data": {
      "text/plain": [
       "      ASSDEM01  ASSREP01\n",
       "year                    \n",
       "2012  0.386974  0.613026\n",
       "2014  0.373254  0.626746\n",
       "2016  0.453021  0.546979\n",
       "2018  0.454786  0.545214\n",
       "2020  0.449142  0.550858"
      ],
      "text/html": "<div>\n<style scoped>\n    .dataframe tbody tr th:only-of-type {\n        vertical-align: middle;\n    }\n\n    .dataframe tbody tr th {\n        vertical-align: top;\n    }\n\n    .dataframe thead th {\n        text-align: right;\n    }\n</style>\n<table border=\"1\" class=\"dataframe\">\n  <thead>\n    <tr style=\"text-align: right;\">\n      <th></th>\n      <th>ASSDEM01</th>\n      <th>ASSREP01</th>\n    </tr>\n    <tr>\n      <th>year</th>\n      <th></th>\n      <th></th>\n    </tr>\n  </thead>\n  <tbody>\n    <tr>\n      <th>2012</th>\n      <td>0.386974</td>\n      <td>0.613026</td>\n    </tr>\n    <tr>\n      <th>2014</th>\n      <td>0.373254</td>\n      <td>0.626746</td>\n    </tr>\n    <tr>\n      <th>2016</th>\n      <td>0.453021</td>\n      <td>0.546979</td>\n    </tr>\n    <tr>\n      <th>2018</th>\n      <td>0.454786</td>\n      <td>0.545214</td>\n    </tr>\n    <tr>\n      <th>2020</th>\n      <td>0.449142</td>\n      <td>0.550858</td>\n    </tr>\n  </tbody>\n</table>\n</div>"
     },
     "metadata": {},
     "execution_count": 108
    }
   ],
   "source": [
    "# Normalize party registration per year.\n",
    "df_elections_with_registration[[\"dem\",\"rep\",\"aip\",\"paf\",\"msc\",\"lib\",\"nlp\",\"grn\",\"ref\",\"dcl\"]] = \\\n",
    "    df_elections_with_registration[[\"dem\",\"rep\",\"aip\",\"paf\",\"msc\",\"lib\",\"nlp\",\"grn\",\"ref\",\"dcl\"]].div(df_elections_with_registration[\"totreg_r\"], axis=0)\n",
    "\n",
    "# Normalize assembly candidate performance\n",
    "df_elections_with_registration[[\"ASSDEM01\", \"ASSREP01\"]] = \\\n",
    "    df_elections_with_registration[[\"ASSDEM01\", \"ASSREP01\"]].div(df_elections_with_registration[[\"ASSDEM01\", \"ASSREP01\"]].sum(axis=1), axis=0)\n",
    "\n",
    "df_elections_with_registration[[\"dem\",\"rep\",\"aip\",\"paf\",\"msc\",\"lib\",\"nlp\",\"grn\",\"ref\",\"dcl\"]]\n",
    "df_elections_with_registration[[\"ASSDEM01\", \"ASSREP01\"]]"
   ]
  },
  {
   "cell_type": "code",
   "execution_count": 109,
   "metadata": {},
   "outputs": [],
   "source": [
    "df_precincts[[\"dem\",\"rep\",\"aip\",\"paf\",\"msc\",\"lib\",\"nlp\",\"grn\",\"ref\",\"dcl\"]] = \\\n",
    "    df_precincts[[\"dem\",\"rep\",\"aip\",\"paf\",\"msc\",\"lib\",\"nlp\",\"grn\",\"ref\",\"dcl\"]].div(df_precincts[\"totreg_r\"], axis=0)\n",
    "\n",
    "# Normalize assembly candidate performance\n",
    "df_precincts[[\"ASSDEM01\", \"ASSREP01\"]] = \\\n",
    "    df_precincts[[\"ASSDEM01\", \"ASSREP01\"]].div(df_precincts[[\"ASSDEM01\", \"ASSREP01\"]].sum(axis=1), axis=0)"
   ]
  },
  {
   "cell_type": "code",
   "execution_count": 110,
   "metadata": {},
   "outputs": [
    {
     "output_type": "stream",
     "name": "stdout",
     "text": [
      "[0.3922748  0.39704532 0.41196982 0.42671006 0.43819921]\n"
     ]
    },
    {
     "output_type": "execute_result",
     "data": {
      "text/plain": [
       "0.000637456747098332"
      ]
     },
     "metadata": {},
     "execution_count": 110
    }
   ],
   "source": [
    "train_labels = [\"dem\",\"rep\",\"aip\",\"paf\",\"msc\",\"lib\",\"nlp\",\"grn\",\"ref\",\"dcl\"]\n",
    "X_train = df_precincts[train_labels]\n",
    "X_test = df_elections_with_registration[train_labels]\n",
    "\n",
    "y_train = df_precincts[\"ASSDEM01\"]\n",
    "y_test = df_elections_with_registration[\"ASSDEM01\"]\n",
    "\n",
    "pipeline = make_pipeline(\n",
    "    StandardScaler(),\n",
    "    KNeighborsRegressor(n_neighbors=20)\n",
    ")\n",
    "\n",
    "pipeline.fit(X=X_train, y=y_train)\n",
    "\n",
    "_y_test = model.predict(X=X_test)\n",
    "print(_y_test)\n",
    "mean_squared_error(y_test, _y_test)\n"
   ]
  },
  {
   "source": [
    "## Using Voter Demographics To Predict Democratic Candidate Performance\n"
   ],
   "cell_type": "markdown",
   "metadata": {}
  },
  {
   "cell_type": "code",
   "execution_count": 111,
   "metadata": {},
   "outputs": [],
   "source": [
    "df_precincts[[\"dem\",\"rep\",\"aip\",\"paf\",\"msc\",\"lib\",\"nlp\",\"grn\",\"ref\",\"dcl\"]] = \\\n",
    "    df_precincts[[\"dem\",\"rep\",\"aip\",\"paf\",\"msc\",\"lib\",\"nlp\",\"grn\",\"ref\",\"dcl\"]].div(df_precincts[\"totreg_r\"], axis=0)\n",
    "\n",
    "# Normalize assembly candidate performance\n",
    "df_precincts[[\"ASSDEM01\", \"ASSREP01\"]] = \\\n",
    "    df_precincts[[\"ASSDEM01\", \"ASSREP01\"]].div(df_precincts[[\"ASSDEM01\", \"ASSREP01\"]].sum(axis=1), axis=0)"
   ]
  },
  {
   "source": [
    "## Finding Model Precincts"
   ],
   "cell_type": "markdown",
   "metadata": {}
  }
 ]
}