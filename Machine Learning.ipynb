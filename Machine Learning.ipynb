{
 "metadata": {
  "language_info": {
   "codemirror_mode": {
    "name": "ipython",
    "version": 3
   },
   "file_extension": ".py",
   "mimetype": "text/x-python",
   "name": "python",
   "nbconvert_exporter": "python",
   "pygments_lexer": "ipython3",
   "version": "3.6.9-final"
  },
  "orig_nbformat": 2,
  "kernelspec": {
   "name": "python3",
   "display_name": "Python 3",
   "language": "python"
  }
 },
 "nbformat": 4,
 "nbformat_minor": 2,
 "cells": [
  {
   "source": [
    "# Machine Learning\n",
    "This notebook houses logic for training models and performing machine learning.\n"
   ],
   "cell_type": "markdown",
   "metadata": {}
  },
  {
   "source": [
    "## Imports"
   ],
   "cell_type": "markdown",
   "metadata": {}
  },
  {
   "cell_type": "code",
   "execution_count": 1,
   "metadata": {},
   "outputs": [],
   "source": [
    "import pandas as pd\n",
    "import numpy as np\n",
    "from sklearn.neighbors import KNeighborsRegressor\n",
    "from sklearn.preprocessing import StandardScaler, MinMaxScaler, Normalizer\n",
    "from sklearn.metrics import mean_absolute_percentage_error, mean_squared_error, mean_absolute_error\n",
    "from sklearn.pipeline import make_pipeline"
   ]
  },
  {
   "cell_type": "code",
   "execution_count": 2,
   "metadata": {},
   "outputs": [],
   "source": [
    "data_dir = \"data/processed/\"\n",
    "\n",
    "# Import precinct data\n",
    "df_precincts = pd.read_csv(data_dir + \"precincts_with_registration.csv\")\n",
    "df_precincts.drop(\"Unnamed: 0\", axis=1, inplace=True)\n",
    "\n",
    "# Import election total data\n",
    "df_election_totals = pd.read_csv(data_dir + \"election_totals.csv\")\n",
    "df_election_totals.set_index(\"year\", inplace=True)\n",
    "\n",
    "df_registration_totals = pd.read_csv(data_dir + \"registration_totals.csv\")\n",
    "df_registration_totals.set_index(\"year\", inplace=True)\n",
    "\n",
    "df_elections_with_registration = df_election_totals.join(df_registration_totals, how=\"inner\")\n"
   ]
  },
  {
   "source": [
    "## Using Precinct Data to Predict a Democratic Assembly Candidate's Performance\n"
   ],
   "cell_type": "markdown",
   "metadata": {}
  },
  {
   "source": [
    "#### Normalizing characteristics of training and test data"
   ],
   "cell_type": "markdown",
   "metadata": {}
  },
  {
   "cell_type": "code",
   "execution_count": 3,
   "metadata": {},
   "outputs": [
    {
     "output_type": "stream",
     "name": "stdout",
     "text": [
      "Actual Results:  year\n2012    0.386974\n2014    0.373254\n2016    0.453021\n2018    0.454786\n2020    0.449142\nName: ASSDEM01, dtype: float64\n"
     ]
    }
   ],
   "source": [
    "party_labels = [\"dem\",\"rep\",\"aip\",\"paf\",\"msc\",\"lib\",\"nlp\",\"grn\",\"ref\",\"dcl\"]\n",
    "\n",
    "# Normalize party registration per year.\n",
    "df_elections_with_registration[[\"dem\",\"rep\",\"aip\",\"paf\",\"msc\",\"lib\",\"nlp\",\"grn\",\"ref\",\"dcl\"]] = \\\n",
    "    df_elections_with_registration[[\"dem\",\"rep\",\"aip\",\"paf\",\"msc\",\"lib\",\"nlp\",\"grn\",\"ref\",\"dcl\"]].div(df_elections_with_registration[\"totreg_r\"], axis=0)\n",
    "\n",
    "# Normalize assembly candidate performance\n",
    "df_elections_with_registration[[\"ASSDEM01\", \"ASSREP01\"]] = \\\n",
    "    df_elections_with_registration[[\"ASSDEM01\", \"ASSREP01\"]].div(df_elections_with_registration[[\"ASSDEM01\", \"ASSREP01\"]].sum(axis=1), axis=0)\n",
    "\n",
    "# Print the actual data we're hoping to predict\n",
    "print(\"Actual Results: \", df_elections_with_registration[\"ASSDEM01\"])\n",
    "\n",
    "# Normalize party registration per year.\n",
    "df_precincts[party_labels] = \\\n",
    "    df_precincts[party_labels].div(df_precincts[\"totreg_r\"], axis=0)\n",
    "\n",
    "# Normalize assembly candidate performance\n",
    "df_precincts[[\"ASSDEM01\", \"ASSREP01\"]] = \\\n",
    "    df_precincts[[\"ASSDEM01\", \"ASSREP01\"]].div(df_precincts[[\"ASSDEM01\", \"ASSREP01\"]].sum(axis=1), axis=0)\n",
    "\n",
    "\n",
    "# Dem age and gender cols\n",
    "dem_cols = [col for col in df_registration_totals.columns if col.startswith('dem') and len(col) > 3]\n",
    "# Rep age and gender cols\n",
    "rep_cols = [col for col in df_registration_totals.columns if col.startswith('rep') and len(col) > 3]\n",
    "# Dcl age and gender cols\n",
    "dcl_cols = [col for col in df_registration_totals.columns if col.startswith('dcl') and len(col) > 3]\n",
    "\n",
    "# Normalize party affiliation, gender, and age groups.\n",
    "df_precincts[dem_cols] = df_precincts[dem_cols].div(df_precincts[\"dem\"], axis=0)\n",
    "df_precincts[rep_cols] = df_precincts[rep_cols].div(df_precincts[\"rep\"], axis=0)\n",
    "df_precincts[dcl_cols] = df_precincts[dcl_cols].div(df_precincts[\"dcl\"], axis=0)\n",
    "\n",
    "df_elections_with_registration[dem_cols] = df_elections_with_registration[dem_cols].div(df_elections_with_registration[\"dem\"], axis=0)\n",
    "df_elections_with_registration[rep_cols] = df_elections_with_registration[rep_cols].div(df_elections_with_registration[\"rep\"], axis=0)\n",
    "df_elections_with_registration[dcl_cols] = df_elections_with_registration[dcl_cols].div(df_elections_with_registration[\"dcl\"], axis=0)\n",
    "\n",
    "\n",
    "party_gender_age = [dem_cols, rep_cols , dcl_cols]\n",
    "\n",
    "# Determine cols for different demographics\n",
    "chi_cols = [col for col in df_registration_totals.columns if col.startswith('chi')]\n",
    "jpn_cols = [col for col in df_registration_totals.columns if col.startswith('jpn')]\n",
    "hisp_cols = [col for col in df_registration_totals.columns if col.startswith('hisp')]\n",
    "ai_cols = [col for col in df_registration_totals.columns if col.startswith('ai')]\n",
    "kor_cols = [col for col in df_registration_totals.columns if col.startswith('kor')]\n",
    "viet_cols = [col for col in df_registration_totals.columns if col.startswith('viet')]\n",
    "fil_cols = [col for col in df_registration_totals.columns if col.startswith('fil')]\n",
    "jew_cols = [col for col in df_registration_totals.columns if col.startswith('jew')]\n",
    "\n",
    "demos = [chi_cols, jpn_cols, hisp_cols, ai_cols, kor_cols, viet_cols, fil_cols, jew_cols]\n",
    "\n",
    "# Normalize accross each race demographic\n",
    "for demo in demos:\n",
    "    df_precincts[demo] = df_precincts[demo].div(df_precincts[demo].sum(axis=1), axis=0)\n",
    "    df_precincts[demo] = df_precincts[demo].fillna(0)\n",
    "    df_elections_with_registration[demo] = df_elections_with_registration[demo].div(df_elections_with_registration[demo].sum(axis=1), axis=0)\n",
    "    df_elections_with_registration[demo] = df_elections_with_registration[demo].fillna(0)\n",
    "\n",
    "\n"
   ]
  },
  {
   "cell_type": "code",
   "execution_count": 4,
   "metadata": {},
   "outputs": [],
   "source": [
    "# Compile a list of different combinations of training labels. They'll be used to determine/construct the best model for fitting our data.\n",
    "voter_reg_train_labels = party_labels\n",
    "party_gender_age_labels = list(np.concatenate(party_gender_age).flat)\n",
    "demo_reg_labels = list(np.concatenate(demos).flat)\n",
    "\n",
    "voter_and_party_labels = list(np.concatenate([voter_reg_train_labels, demo_reg_labels]).flat)\n",
    "party_and_demo_labels = list(np.concatenate([demo_reg_labels, party_gender_age_labels]).flat)\n",
    "voter_and_demo_labels = list(np.concatenate([voter_reg_train_labels, demo_reg_labels]).flat)\n",
    "\n",
    "all_labels = list(np.concatenate([voter_reg_train_labels, party_gender_age_labels, demo_reg_labels]).flat)\n",
    "\n",
    "# Create every combination of labels to evaluate.\n",
    "labels = [ voter_reg_train_labels, party_gender_age_labels, demo_reg_labels,\n",
    "    voter_and_party_labels, party_and_demo_labels, voter_and_demo_labels, all_labels\n",
    "]\n",
    "\n",
    "y_train = df_precincts[\"ASSDEM01\"]\n",
    "y_test = df_elections_with_registration[\"ASSDEM01\"]\n"
   ]
  },
  {
   "source": [
    "#### Determining the best model and training parameters\n",
    "Below is a function that accepts a number of neighbors a scaling method and a list of training labels, to determine the mean squared error of a resulting model."
   ],
   "cell_type": "markdown",
   "metadata": {}
  },
  {
   "cell_type": "code",
   "execution_count": 5,
   "metadata": {
    "tags": []
   },
   "outputs": [
    {
     "output_type": "stream",
     "name": "stdout",
     "text": [
      "Best combination of labels: ['dem', 'rep', 'aip', 'paf', 'msc', 'lib', 'nlp', 'grn', 'ref', 'dcl'], Best k: 5, Best Scaling Method: StandardScaler() produced a model with a MSE of 0.00018202591438314287\n"
     ]
    }
   ],
   "source": [
    "def make_and_test_pipeline(neighbors, scaleMethod, train_labels):\n",
    "\n",
    "    X_train = df_precincts[train_labels]\n",
    "    X_test = df_elections_with_registration[train_labels]\n",
    "\n",
    "    pipeline = make_pipeline(\n",
    "        scaleMethod,\n",
    "        KNeighborsRegressor(n_neighbors=neighbors)\n",
    "    )\n",
    "\n",
    "    pipeline.fit(X=X_train, y=y_train)\n",
    "\n",
    "    _y_test = pipeline.predict(X=X_test)\n",
    "    mse = mean_squared_error(_y_test, y_test)\n",
    "\n",
    "    return mse\n",
    "\n",
    "best_k = best_method = None\n",
    "minMSE = 10000\n",
    "best_labels = None\n",
    "\n",
    "for label_group in labels:\n",
    "    for n in [5, 10, 20, 30]:\n",
    "        for sM in [StandardScaler(), MinMaxScaler(), Normalizer()]:\n",
    "            best_n = n if n == None else best_k \n",
    "            best_method = sM if best_method == None else best_method\n",
    "            \n",
    "            curMSE = make_and_test_pipeline(n, sM, label_group)\n",
    "\n",
    "            if curMSE < minMSE:\n",
    "                best_k = n\n",
    "                bset_method = sM \n",
    "                best_labels = label_group\n",
    "                minMSE = curMSE\n",
    "\n",
    "print(\"Best combination of labels: {}, Best k: {}, Best Scaling Method: {} produced a model with a MSE of {}\".format(best_labels, best_n, best_method, minMSE))\n"
   ]
  },
  {
   "source": [
    "Given a range of possible k values, and different scaling methods, we found that the combination that minimized the mean squared error of our model, was a KNeighborsRegressor with 5 neighbors, and with training labels that only took into consideration the registration proportions of a precinct."
   ],
   "cell_type": "markdown",
   "metadata": {}
  },
  {
   "source": [
    "### Using the model to predict general election results"
   ],
   "cell_type": "markdown",
   "metadata": {}
  },
  {
   "cell_type": "code",
   "execution_count": 6,
   "metadata": {},
   "outputs": [
    {
     "output_type": "stream",
     "name": "stdout",
     "text": [
      "Predicted Results:               0\n2012  0.360598\n2014  0.400715\n2016  0.436573\n2018  0.439017\n2020  0.428631\n"
     ]
    }
   ],
   "source": [
    "# Use the model to predict election results. \n",
    "X_train = df_precincts[best_labels]\n",
    "X_test = df_elections_with_registration[best_labels]\n",
    "\n",
    "pipeline = make_pipeline(\n",
    "    best_method,\n",
    "    KNeighborsRegressor(n_neighbors=best_n)\n",
    ")\n",
    "\n",
    "pipeline.fit(X=X_train, y=y_train)\n",
    "\n",
    "_y_test = pipeline.predict(X=X_test)\n",
    "\n",
    "df_predicted = pd.DataFrame(data=_y_test, index=[\"2012\", \"2014\", \"2016\", \"2018\", \"2020\"])\n",
    "\n",
    "print(\"Predicted Results: \", df_predicted)\n"
   ]
  },
  {
   "source": [
    "### Finding Scenarios That Would Predict Democratic Gains\n",
    "\n",
    "Working from 2020 results: Say Democrats wished to reach people who've previously registered as \"Decline to State\", in hopes of expanding their margins. What percent of DCL's would Democrats have to convert, before our model would predict a favorable outcome for the Democratic assembly candidate?"
   ],
   "cell_type": "markdown",
   "metadata": {}
  },
  {
   "cell_type": "code",
   "execution_count": 7,
   "metadata": {},
   "outputs": [
    {
     "output_type": "stream",
     "name": "stdout",
     "text": [
      "0.03 point gain predicted results: 0.5314638424486151%\n"
     ]
    }
   ],
   "source": [
    "# Assume we start from the previous election registration.\n",
    "prev_performance = df_elections_with_registration.loc[2020]\n",
    "\n",
    "high_dem_registration = prev_performance[[\"dem\",\"rep\",\"aip\",\"paf\",\"msc\",\"lib\",\"nlp\",\"grn\",\"ref\",\"dcl\"]]\n",
    "\n",
    "point_swing = 0.0\n",
    "while (pipeline.predict(X=[high_dem_registration])[0] < 0.5):\n",
    "    point_swing = point_swing + 0.01\n",
    "    high_dem_registration[\"dem\"] = high_dem_registration[\"dem\"] + point_swing\n",
    "    high_dem_registration[\"dcl\"] = high_dem_registration[\"dcl\"] - point_swing\n",
    "\n",
    "pred = pipeline.predict(X=[high_dem_registration])\n",
    "print(\"{} point gain predicted results: {}%\".format(point_swing, pred[0]))\n"
   ]
  },
  {
   "source": [
    "Answer: Our model predicts that about 3% of DCL's would need to be re-registered as a Democrat, before we could see a favorable outcome for the Democratic assembly candidate."
   ],
   "cell_type": "markdown",
   "metadata": {}
  },
  {
   "source": [
    "Say Democrats decide they wish to make make inroads with registered Republican voters: what percent of registered Republicans would need to be flipped for the Democratic nominee to take a lead in the vote share."
   ],
   "cell_type": "markdown",
   "metadata": {}
  },
  {
   "cell_type": "code",
   "execution_count": 8,
   "metadata": {},
   "outputs": [
    {
     "output_type": "stream",
     "name": "stdout",
     "text": [
      "0.03 point gain predicted results: 0.5516549857516135%\n"
     ]
    }
   ],
   "source": [
    "# Assume we start from the previous election registration.\n",
    "prev_performance = df_elections_with_registration.loc[2020]\n",
    "\n",
    "high_dem_registration = prev_performance[[\"dem\",\"rep\",\"aip\",\"paf\",\"msc\",\"lib\",\"nlp\",\"grn\",\"ref\",\"dcl\"]]\n",
    "\n",
    "point_swing = 0.0\n",
    "while (pipeline.predict(X=[high_dem_registration])[0] < 0.5):\n",
    "    point_swing = point_swing + 0.005\n",
    "    high_dem_registration[\"dem\"] = high_dem_registration[\"dem\"] + point_swing\n",
    "    high_dem_registration[\"rep\"] = high_dem_registration[\"rep\"] - point_swing\n",
    "\n",
    "pred = pipeline.predict(X=[high_dem_registration])\n",
    "\n",
    "print(\"{} point gain predicted results: {}%\".format(point_swing, pred[0]))\n"
   ]
  },
  {
   "source": [
    "Answer: Our model predicts that flipping 3% of registered Republicans would lead to the Democratic candidate winning the majority of the vote."
   ],
   "cell_type": "markdown",
   "metadata": {}
  }
 ]
}