{
 "metadata": {
  "language_info": {
   "codemirror_mode": {
    "name": "ipython",
    "version": 3
   },
   "file_extension": ".py",
   "mimetype": "text/x-python",
   "name": "python",
   "nbconvert_exporter": "python",
   "pygments_lexer": "ipython3",
   "version": "3.6.9-final"
  },
  "orig_nbformat": 2,
  "kernelspec": {
   "name": "python3",
   "display_name": "Python 3",
   "language": "python"
  }
 },
 "nbformat": 4,
 "nbformat_minor": 2,
 "cells": [
  {
   "source": [
    "# Machine Learning\n",
    "This notebook houses logic for training models and performing machine learning.\n"
   ],
   "cell_type": "markdown",
   "metadata": {}
  },
  {
   "source": [
    "## Imports"
   ],
   "cell_type": "markdown",
   "metadata": {}
  },
  {
   "cell_type": "code",
   "execution_count": 1,
   "metadata": {},
   "outputs": [],
   "source": [
    "import pandas as pd\n",
    "from sklearn.neighbors import KNeighborsRegressor\n",
    "from sklearn.preprocessing import StandardScaler, MinMaxScaler, Normalizer\n",
    "from sklearn.metrics import mean_absolute_percentage_error, mean_squared_error, mean_absolute_error\n",
    "from sklearn.pipeline import make_pipeline"
   ]
  },
  {
   "cell_type": "code",
   "execution_count": 2,
   "metadata": {},
   "outputs": [
    {
     "output_type": "execute_result",
     "data": {
      "text/plain": [
       "      ABSVOTE  AIPREG  AIPVOTE  ASSDEM01  ASSDEM02  ASSIND01  ASSPAF01  \\\n",
       "year                                                                     \n",
       "2012      0.0     0.0      0.0   65500.0       0.0       0.0       0.0   \n",
       "2014      0.0     0.0      0.0   46126.0       0.0       0.0       NaN   \n",
       "2016      0.0     0.0      0.0   87168.0       0.0       0.0       NaN   \n",
       "2018      0.0     0.0      0.0   56257.0       0.0       0.0       NaN   \n",
       "2020      0.0     0.0      0.0  103206.0       0.0       0.0       NaN   \n",
       "\n",
       "      ASSREP01  ASSREP02  CNGDEM01  ...   rreg5g  rreg6g  rreg7g  rreg8g  \\\n",
       "year                                ...                                    \n",
       "2012  103762.0       0.0   86907.0  ...  10967.0  4656.0  5996.0  3922.0   \n",
       "2014   77452.0       0.0   59214.0  ...   4937.0  9098.0  3954.0  5177.0   \n",
       "2016  105247.0       0.0   89992.0  ...   6849.0  3395.0  7910.0  3179.0   \n",
       "2018   67443.0       NaN   91599.0  ...   3537.0  4856.0  2506.0  5984.0   \n",
       "2020  126579.0       0.0  120883.0  ...   3025.0  1985.0  2737.0  1425.0   \n",
       "\n",
       "       rreg9g  totreg_r  vietdcl  vietdem  vietoth  vietrep  \n",
       "year                                                         \n",
       "2012  23554.0  219403.0     70.0     82.0     18.0     89.0  \n",
       "2014  24026.0  216298.0     93.0     94.0     24.0     80.0  \n",
       "2016  25474.0  249413.0    143.0    174.0     21.0     92.0  \n",
       "2018  22393.0  248773.0    158.0    165.0     23.0     93.0  \n",
       "2020  17286.0  279110.0    164.0    232.0     51.0    152.0  \n",
       "\n",
       "[5 rows x 324 columns]"
      ],
      "text/html": "<div>\n<style scoped>\n    .dataframe tbody tr th:only-of-type {\n        vertical-align: middle;\n    }\n\n    .dataframe tbody tr th {\n        vertical-align: top;\n    }\n\n    .dataframe thead th {\n        text-align: right;\n    }\n</style>\n<table border=\"1\" class=\"dataframe\">\n  <thead>\n    <tr style=\"text-align: right;\">\n      <th></th>\n      <th>ABSVOTE</th>\n      <th>AIPREG</th>\n      <th>AIPVOTE</th>\n      <th>ASSDEM01</th>\n      <th>ASSDEM02</th>\n      <th>ASSIND01</th>\n      <th>ASSPAF01</th>\n      <th>ASSREP01</th>\n      <th>ASSREP02</th>\n      <th>CNGDEM01</th>\n      <th>...</th>\n      <th>rreg5g</th>\n      <th>rreg6g</th>\n      <th>rreg7g</th>\n      <th>rreg8g</th>\n      <th>rreg9g</th>\n      <th>totreg_r</th>\n      <th>vietdcl</th>\n      <th>vietdem</th>\n      <th>vietoth</th>\n      <th>vietrep</th>\n    </tr>\n    <tr>\n      <th>year</th>\n      <th></th>\n      <th></th>\n      <th></th>\n      <th></th>\n      <th></th>\n      <th></th>\n      <th></th>\n      <th></th>\n      <th></th>\n      <th></th>\n      <th></th>\n      <th></th>\n      <th></th>\n      <th></th>\n      <th></th>\n      <th></th>\n      <th></th>\n      <th></th>\n      <th></th>\n      <th></th>\n      <th></th>\n    </tr>\n  </thead>\n  <tbody>\n    <tr>\n      <th>2012</th>\n      <td>0.0</td>\n      <td>0.0</td>\n      <td>0.0</td>\n      <td>65500.0</td>\n      <td>0.0</td>\n      <td>0.0</td>\n      <td>0.0</td>\n      <td>103762.0</td>\n      <td>0.0</td>\n      <td>86907.0</td>\n      <td>...</td>\n      <td>10967.0</td>\n      <td>4656.0</td>\n      <td>5996.0</td>\n      <td>3922.0</td>\n      <td>23554.0</td>\n      <td>219403.0</td>\n      <td>70.0</td>\n      <td>82.0</td>\n      <td>18.0</td>\n      <td>89.0</td>\n    </tr>\n    <tr>\n      <th>2014</th>\n      <td>0.0</td>\n      <td>0.0</td>\n      <td>0.0</td>\n      <td>46126.0</td>\n      <td>0.0</td>\n      <td>0.0</td>\n      <td>NaN</td>\n      <td>77452.0</td>\n      <td>0.0</td>\n      <td>59214.0</td>\n      <td>...</td>\n      <td>4937.0</td>\n      <td>9098.0</td>\n      <td>3954.0</td>\n      <td>5177.0</td>\n      <td>24026.0</td>\n      <td>216298.0</td>\n      <td>93.0</td>\n      <td>94.0</td>\n      <td>24.0</td>\n      <td>80.0</td>\n    </tr>\n    <tr>\n      <th>2016</th>\n      <td>0.0</td>\n      <td>0.0</td>\n      <td>0.0</td>\n      <td>87168.0</td>\n      <td>0.0</td>\n      <td>0.0</td>\n      <td>NaN</td>\n      <td>105247.0</td>\n      <td>0.0</td>\n      <td>89992.0</td>\n      <td>...</td>\n      <td>6849.0</td>\n      <td>3395.0</td>\n      <td>7910.0</td>\n      <td>3179.0</td>\n      <td>25474.0</td>\n      <td>249413.0</td>\n      <td>143.0</td>\n      <td>174.0</td>\n      <td>21.0</td>\n      <td>92.0</td>\n    </tr>\n    <tr>\n      <th>2018</th>\n      <td>0.0</td>\n      <td>0.0</td>\n      <td>0.0</td>\n      <td>56257.0</td>\n      <td>0.0</td>\n      <td>0.0</td>\n      <td>NaN</td>\n      <td>67443.0</td>\n      <td>NaN</td>\n      <td>91599.0</td>\n      <td>...</td>\n      <td>3537.0</td>\n      <td>4856.0</td>\n      <td>2506.0</td>\n      <td>5984.0</td>\n      <td>22393.0</td>\n      <td>248773.0</td>\n      <td>158.0</td>\n      <td>165.0</td>\n      <td>23.0</td>\n      <td>93.0</td>\n    </tr>\n    <tr>\n      <th>2020</th>\n      <td>0.0</td>\n      <td>0.0</td>\n      <td>0.0</td>\n      <td>103206.0</td>\n      <td>0.0</td>\n      <td>0.0</td>\n      <td>NaN</td>\n      <td>126579.0</td>\n      <td>0.0</td>\n      <td>120883.0</td>\n      <td>...</td>\n      <td>3025.0</td>\n      <td>1985.0</td>\n      <td>2737.0</td>\n      <td>1425.0</td>\n      <td>17286.0</td>\n      <td>279110.0</td>\n      <td>164.0</td>\n      <td>232.0</td>\n      <td>51.0</td>\n      <td>152.0</td>\n    </tr>\n  </tbody>\n</table>\n<p>5 rows × 324 columns</p>\n</div>"
     },
     "metadata": {},
     "execution_count": 2
    }
   ],
   "source": [
    "data_dir = \"data/processed/\"\n",
    "\n",
    "# Import precinct data\n",
    "df_precincts = pd.read_csv(data_dir + \"precincts_with_registration.csv\")\n",
    "df_precincts.drop(\"Unnamed: 0\", axis=1, inplace=True)\n",
    "\n",
    "# Import election total data\n",
    "df_election_totals = pd.read_csv(data_dir + \"election_totals.csv\")\n",
    "df_election_totals.set_index(\"year\", inplace=True)\n",
    "\n",
    "df_registration_totals = pd.read_csv(data_dir + \"registration_totals.csv\")\n",
    "df_registration_totals.set_index(\"year\", inplace=True)\n",
    "\n",
    "df_elections_with_registration = df_election_totals.join(df_registration_totals, how=\"inner\")\n",
    "df_elections_with_registration\n"
   ]
  },
  {
   "source": [
    "## Using Party Registration to Predict Democratic Candidate Performance\n"
   ],
   "cell_type": "markdown",
   "metadata": {}
  },
  {
   "cell_type": "code",
   "execution_count": 3,
   "metadata": {},
   "outputs": [
    {
     "output_type": "stream",
     "name": "stdout",
     "text": [
      "Actual Results:  year\n2012    0.386974\n2014    0.373254\n2016    0.453021\n2018    0.454786\n2020    0.449142\nName: ASSDEM01, dtype: float64\n"
     ]
    }
   ],
   "source": [
    "# Normalize party registration per year.\n",
    "df_elections_with_registration[[\"dem\",\"rep\",\"aip\",\"paf\",\"msc\",\"lib\",\"nlp\",\"grn\",\"ref\",\"dcl\"]] = \\\n",
    "    df_elections_with_registration[[\"dem\",\"rep\",\"aip\",\"paf\",\"msc\",\"lib\",\"nlp\",\"grn\",\"ref\",\"dcl\"]].div(df_elections_with_registration[\"totreg_r\"], axis=0)\n",
    "\n",
    "# Normalize assembly candidate performance\n",
    "df_elections_with_registration[[\"ASSDEM01\", \"ASSREP01\"]] = \\\n",
    "    df_elections_with_registration[[\"ASSDEM01\", \"ASSREP01\"]].div(df_elections_with_registration[[\"ASSDEM01\", \"ASSREP01\"]].sum(axis=1), axis=0)\n",
    "\n",
    "\n",
    "# Print the actual data we're hoping to pr\n",
    "print(\"Actual Results: \", df_elections_with_registration[\"ASSDEM01\"])"
   ]
  },
  {
   "cell_type": "code",
   "execution_count": 4,
   "metadata": {},
   "outputs": [],
   "source": [
    "df_precincts[[\"dem\",\"rep\",\"aip\",\"paf\",\"msc\",\"lib\",\"nlp\",\"grn\",\"ref\",\"dcl\"]] = \\\n",
    "    df_precincts[[\"dem\",\"rep\",\"aip\",\"paf\",\"msc\",\"lib\",\"nlp\",\"grn\",\"ref\",\"dcl\"]].div(df_precincts[\"totreg_r\"], axis=0)\n",
    "\n",
    "# Normalize assembly candidate performance\n",
    "df_precincts[[\"ASSDEM01\", \"ASSREP01\"]] = \\\n",
    "    df_precincts[[\"ASSDEM01\", \"ASSREP01\"]].div(df_precincts[[\"ASSDEM01\", \"ASSREP01\"]].sum(axis=1), axis=0)"
   ]
  },
  {
   "cell_type": "code",
   "execution_count": 5,
   "metadata": {},
   "outputs": [],
   "source": [
    "# \n",
    "train_labels = [\"dem\",\"rep\",\"aip\",\"paf\",\"msc\",\"lib\",\"nlp\",\"grn\",\"ref\",\"dcl\"]\n",
    "X_train = df_precincts[train_labels]\n",
    "X_test = df_elections_with_registration[train_labels]\n",
    "\n",
    "y_train = df_precincts[\"ASSDEM01\"]\n",
    "y_test = df_elections_with_registration[\"ASSDEM01\"]\n"
   ]
  },
  {
   "source": [
    "### Determining the best model\n",
    "Below is a function that accepts a number of neighbors and a scaling method, to determine the mean squared error of a resulting model."
   ],
   "cell_type": "markdown",
   "metadata": {}
  },
  {
   "cell_type": "code",
   "execution_count": 11,
   "metadata": {},
   "outputs": [
    {
     "output_type": "stream",
     "name": "stdout",
     "text": [
      "Best k: 5, Best Scaling Method: StandardScaler()\n"
     ]
    }
   ],
   "source": [
    "def make_and_test_pipeline(neighbors, scaleMethod):\n",
    "\n",
    "    pipeline = make_pipeline(\n",
    "        scaleMethod,\n",
    "        KNeighborsRegressor(n_neighbors=20)\n",
    "    )\n",
    "\n",
    "    pipeline.fit(X=X_train, y=y_train)\n",
    "\n",
    "    _y_test = pipeline.predict(X=X_test)\n",
    "    mse = mean_squared_error(_y_test, y_test)\n",
    "\n",
    "    return mse\n",
    "\n",
    "best_k = best_method = None\n",
    "minMSE = 10000\n",
    "\n",
    "for n in [5, 10, 20, 30]:\n",
    "    for sM in [StandardScaler(), MinMaxScaler(), Normalizer()]:\n",
    "        best_n = n if n == None else best_k \n",
    "        best_method = sM if best_method == None else best_method\n",
    "        \n",
    "        curMSE = make_and_test_pipeline(n, sM)\n",
    "\n",
    "        if curMSE < minMSE:\n",
    "            best_k = n\n",
    "            bset_method = sM \n",
    "            minMSE = curMSE\n",
    "\n",
    "print(\"Best k: {}, Best Scaling Method: {}\".format(best_n, best_method))\n"
   ]
  },
  {
   "source": [
    "Given a range of possible k values, and different scaling methods, we found that the combination that minimized the mean squared error of our model, was a KNeighborsRessor that used 5 "
   ],
   "cell_type": "markdown",
   "metadata": {}
  },
  {
   "source": [
    "### Using the model to predict general election results"
   ],
   "cell_type": "markdown",
   "metadata": {}
  },
  {
   "cell_type": "code",
   "execution_count": 7,
   "metadata": {},
   "outputs": [
    {
     "output_type": "stream",
     "name": "stdout",
     "text": [
      "Mean Squared Error 0.0005701971959409406\nPredicted Results:               0\n2012  0.368530\n2014  0.396668\n2016  0.432859\n2018  0.442137\n2020  0.430095\n"
     ]
    }
   ],
   "source": [
    "# Use the model to predict election results. \n",
    "\n",
    "pipeline = make_pipeline(\n",
    "    best_method,\n",
    "    KNeighborsRegressor(n_neighbors=best_n)\n",
    ")\n",
    "\n",
    "pipeline.fit(X=X_train, y=y_train)\n",
    "\n",
    "_y_test = pipeline.predict(X=X_test)\n",
    "\n",
    "print(\"Mean Squared Error {}\".format(minMSE))\n",
    "\n",
    "df_predicted = pd.DataFrame(data=_y_test, index=[\"2012\", \"2014\", \"2016\", \"2018\", \"2020\"])\n",
    "\n",
    "print(\"Predicted Results: \", df_predicted)\n"
   ]
  },
  {
   "source": [
    "### Finding Scenarios That Would Predict Democratic Gains\n",
    "\n",
    "Working from 2020 results: Say Democrats registered 2.5 percent of DCL's, to roughly match the average registraion percents of Republicans. What would the Democrat's predicted share of the vote be?"
   ],
   "cell_type": "markdown",
   "metadata": {}
  },
  {
   "cell_type": "code",
   "execution_count": 8,
   "metadata": {},
   "outputs": [
    {
     "output_type": "stream",
     "name": "stdout",
     "text": [
      "2.5 point gain predicted results: 0.42046123220333714%\n3.3 point gain predicted results: 0.5089716618188358%\n"
     ]
    }
   ],
   "source": [
    "# Assume we start from the previous election registration.\n",
    "prev_performance = df_elections_with_registration.loc[2020]\n",
    "\n",
    "high_dem_registration = prev_performance[[\"dem\",\"rep\",\"aip\",\"paf\",\"msc\",\"lib\",\"nlp\",\"grn\",\"ref\",\"dcl\"]]\n",
    "\n",
    "high_dem_registration[\"dem\"] = high_dem_registration[\"dem\"] + 0.025\n",
    "high_dem_registration[\"dcl\"] = high_dem_registration[\"dcl\"] - 0.025\n",
    "\n",
    "pred = pipeline.predict(X=[high_dem_registration])\n",
    "\n",
    "print(\"2.5 point gain predicted results: {}%\".format(pred[0]))\n",
    "\n",
    "high_dem_registration[\"dem\"] = high_dem_registration[\"dem\"] + 0.08\n",
    "high_dem_registration[\"dcl\"] = high_dem_registration[\"dcl\"] - 0.08\n",
    "\n",
    "pred = pipeline.predict(X=[high_dem_registration])\n",
    "print(\"3.3 point gain predicted results: {}%\".format(pred[0]))"
   ]
  },
  {
   "source": [
    "Answer: Not quite enough. However, a 3.3 percent improvement from 2020 turnout might be enought to tip the scales."
   ],
   "cell_type": "markdown",
   "metadata": {}
  },
  {
   "source": [
    "Say Democrats decide they wish to make make inroads with registered Republican voters: what percent of registered Republicans would need to be flipped for the Democratic nominee to take a lead in the vote share."
   ],
   "cell_type": "markdown",
   "metadata": {}
  },
  {
   "cell_type": "code",
   "execution_count": 9,
   "metadata": {},
   "outputs": [
    {
     "output_type": "stream",
     "name": "stdout",
     "text": [
      "0.03 point gain predicted results: 0.5288883286378189%\n"
     ]
    }
   ],
   "source": [
    "# Assume we start from the previous election registration.\n",
    "prev_performance = df_elections_with_registration.loc[2020]\n",
    "\n",
    "high_dem_registration = prev_performance[[\"dem\",\"rep\",\"aip\",\"paf\",\"msc\",\"lib\",\"nlp\",\"grn\",\"ref\",\"dcl\"]]\n",
    "\n",
    "point_swing = 0.0\n",
    "while (pipeline.predict(X=[high_dem_registration])[0] < 0.5):\n",
    "    point_swing = point_swing + 0.01\n",
    "    high_dem_registration[\"dem\"] = high_dem_registration[\"dem\"] + point_swing\n",
    "    high_dem_registration[\"rep\"] = high_dem_registration[\"rep\"] - point_swing\n",
    "\n",
    "pred = pipeline.predict(X=[high_dem_registration])\n",
    "\n",
    "print(\"{} point gain predicted results: {}%\".format(point_swing, pred[0]))\n"
   ]
  },
  {
   "source": [
    "Answer: Our model predicts that flipping 3% of registered Republicans would lead to the Democratic candidate winning the majority of the vote."
   ],
   "cell_type": "markdown",
   "metadata": {}
  }
 ]
}